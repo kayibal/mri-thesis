{
 "cells": [
  {
   "cell_type": "code",
   "execution_count": null,
   "metadata": {
    "collapsed": false
   },
   "outputs": [],
   "source": [
    "import os\n",
    "import tables\n",
    "import py7D\n",
    "import glob\n",
    "import sqlite3\n",
    "import requests\n",
    "import resource\n",
    "from main import create_fluctuation_data\n",
    "resource.setrlimit(resource.RLIMIT_NOFILE, (65536, 65536))"
   ]
  },
  {
   "cell_type": "code",
   "execution_count": null,
   "metadata": {
    "collapsed": false
   },
   "outputs": [],
   "source": [
    "os.path.dirname(os.path.realpath(\"__file__\"))"
   ]
  },
  {
   "cell_type": "code",
   "execution_count": null,
   "metadata": {
    "collapsed": false
   },
   "outputs": [],
   "source": [
    "os.chdir('msd_data/MillionSongSubset/data')"
   ]
  },
  {
   "cell_type": "code",
   "execution_count": null,
   "metadata": {
    "collapsed": false
   },
   "outputs": [],
   "source": [
    "def create_db():\n",
    "    conn = sqlite3.connect(\"processed_data.db\")\n",
    "    c = conn.cursor()\n",
    "    c.execute('''CREATE TABLE tracks (msd_id text, track_7digitalid integer, jam_id text, som_cluster integer, igmn_cluster integer, audio_path text, h5_path text, genre text)''')\n",
    "    conn.commit()\n",
    "    conn.close()\n",
    "create_db()"
   ]
  },
  {
   "cell_type": "code",
   "execution_count": null,
   "metadata": {
    "collapsed": true
   },
   "outputs": [],
   "source": [
    "def jam_mapping(path):\n",
    "    mapping = {}\n",
    "    with open(path) as f:\n",
    "        for line in f:\n",
    "            values = line.split('\\t')\n",
    "            mapping[values[1].strip('\\n')] = values[0]\n",
    "    return mapping"
   ]
  },
  {
   "cell_type": "code",
   "execution_count": null,
   "metadata": {
    "collapsed": false
   },
   "outputs": [],
   "source": [
    "jam_ids = jam_mapping('../../jam_to_msd.tsv')\n",
    "#jam_ids"
   ]
  },
  {
   "cell_type": "code",
   "execution_count": null,
   "metadata": {
    "collapsed": false
   },
   "outputs": [],
   "source": [
    "no_audio = []\n",
    "no_jam = []\n",
    "conn = sqlite3.connect(\"processed_data.db\")\n",
    "c = conn.cursor()\n",
    "\n",
    "for(directory, _,files) in os.walk('.'):\n",
    "    for h5 in glob.glob(os.path.join(directory,\"*.h5\")):\n",
    "        print h5\n",
    "        f = tables.open_file(h5, mode='r')\n",
    "        track_id = f.root.analysis.songs.cols.track_id[0]\n",
    "        audio_name = track_id +\".mp3\"\n",
    "        audio_path = os.path.abspath(os.path.join(directory,audio_name))\n",
    "        seven_id = f.root.metadata.songs.cols.track_7digitalid[0]\n",
    "        #create db entry and get audiofile\n",
    "        if not (os.path.exists(audio_path) and seven_id != -1):\n",
    "            audio_url = py7D.preview_url(seven_id)\n",
    "            r = requests.get(audio_url, headers={'Connection':'close'})\n",
    "            if r.ok:\n",
    "                #write audio file\n",
    "                with open(audio_path, 'wb') as handle:\n",
    "                    for block in r.iter_content(8*1024):\n",
    "                        handle.write(block)\n",
    "                #create db_entry\n",
    "                query = \"INSERT INTO tracks (msd_id, track_7digitalid, jam_id, audio_path, h5_path) VALUES ('%s',%d,'%s','%s','%s')\"\n",
    "                if jam_ids.has_key(track_id):\n",
    "                    query = query % (track_id, seven_id, jam_ids[track_id], audio_path, os.path.abspath(h5))\n",
    "                else:\n",
    "                    query = query % (track_id, seven_id, -1, audio_path, h5)\n",
    "                    no_jam.append(track_id)\n",
    "                c.execute(query)\n",
    "                conn.commit()\n",
    "            else:\n",
    "                no_audio.append(track_id)\n",
    "            r.connection.close()\n",
    "        elif seven_id == -1:\n",
    "            no_audio.append(track_id)\n",
    "        else:\n",
    "            print \"skip\"\n",
    "        f.close()\n",
    "        \n",
    "conn.close()\n",
    "print \"done\""
   ]
  },
  {
   "cell_type": "code",
   "execution_count": null,
   "metadata": {
    "collapsed": false
   },
   "outputs": [],
   "source": [
    "conn = sqlite3.connect(\"processed_data.db\")\n",
    "c = conn.cursor()\n",
    "for entry in c.execute(\"SELECT * FROM tracks WHERE audio_path IS NOT NULL\"):\n",
    "    "
   ]
  },
  {
   "cell_type": "code",
   "execution_count": null,
   "metadata": {
    "collapsed": true
   },
   "outputs": [],
   "source": []
  }
 ],
 "metadata": {
  "kernelspec": {
   "display_name": "Python 2",
   "language": "python",
   "name": "python2"
  },
  "language_info": {
   "codemirror_mode": {
    "name": "ipython",
    "version": 2
   },
   "file_extension": ".py",
   "mimetype": "text/x-python",
   "name": "python",
   "nbconvert_exporter": "python",
   "pygments_lexer": "ipython2",
   "version": "2.7.9"
  }
 },
 "nbformat": 4,
 "nbformat_minor": 0
}
