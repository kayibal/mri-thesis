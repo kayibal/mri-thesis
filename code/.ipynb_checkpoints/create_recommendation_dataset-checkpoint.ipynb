{
 "cells": [
  {
   "cell_type": "code",
   "execution_count": 12,
   "metadata": {
    "collapsed": false
   },
   "outputs": [],
   "source": [
    "import os\n",
    "from collections import Counter\n",
    "import numpy as np\n",
    "import random\n",
    "import tables\n",
    "import requests\n",
    "import sqlite3\n",
    "import sevendigital_preview \n",
    "from urllib2 import HTTPError\n",
    "random.seed(1234)"
   ]
  },
  {
   "cell_type": "code",
   "execution_count": 13,
   "metadata": {
    "collapsed": false
   },
   "outputs": [],
   "source": [
    "#reload(sevendigital_preview)\n",
    "oauthkey = ['7daju79vrfv8','7dvmrhbyzu2j','7de2vxyvdka7'][1]\n",
    "secret = ['yx7bh8eje83537mm','zphtpamzhgz49vj6','fctd2pwvzqceautf'][1]\n",
    "sevendigital_preview.set_credentials(oauthkey, secret)"
   ]
  },
  {
   "cell_type": "code",
   "execution_count": 14,
   "metadata": {
    "collapsed": true
   },
   "outputs": [],
   "source": [
    "#load metadata\n",
    "#build cluster dict from db\n",
    "conn = sqlite3.connect(\"/home/kayibal/sc-recom/code/msd_data/analysis_data/sampled_likes_tracks.db\")\n",
    "c = conn.cursor()\n",
    "c.execute(\"SELECT msd_id, audio_path FROM tracks WHERE audio_path IS NOT NULL ORDER BY msd_id\")\n",
    "tracks = [el[0] for el in c.fetchall()]\n",
    "conn.close()\n",
    "\n"
   ]
  },
  {
   "cell_type": "code",
   "execution_count": 15,
   "metadata": {
    "collapsed": false
   },
   "outputs": [],
   "source": [
    "# new approach starting from likes\n",
    "msd_known_jams = set() #this is a set of jam ids which we can map to msd ids\n",
    "with open('msd_data/jam_to_msd.tsv') as f:\n",
    "    for line in f:\n",
    "        msd_known_jams.add(line.split('\\t')[0].strip())"
   ]
  },
  {
   "cell_type": "code",
   "execution_count": 18,
   "metadata": {
    "collapsed": false
   },
   "outputs": [],
   "source": [
    "#load all likes into memory\n",
    "likes = []\n",
    "lines = 0\n",
    "with open('msd_data/jam_dump/archive/likes.tsv') as f:\n",
    "    next(f)\n",
    "    for line in f:\n",
    "        lines += 1\n",
    "        like = {'user': line.split('\\t')[0], 'jam': line.split('\\t')[1].strip()}\n",
    "        #intersect likes with msd_known_jams\n",
    "        try:\n",
    "            if get_msd_id[like['jam']] in tracks:\n",
    "                like['jam'] = get_msd_id[like['jam']]\n",
    "                likes.append(like)\n",
    "        except KeyError:\n",
    "            pass"
   ]
  },
  {
   "cell_type": "code",
   "execution_count": 25,
   "metadata": {
    "collapsed": false
   },
   "outputs": [
    {
     "data": {
      "text/plain": [
       "5968624"
      ]
     },
     "execution_count": 25,
     "metadata": {},
     "output_type": "execute_result"
    }
   ],
   "source": [
    "lines"
   ]
  },
  {
   "cell_type": "code",
   "execution_count": 30,
   "metadata": {
    "collapsed": false
   },
   "outputs": [
    {
     "data": {
      "text/plain": [
       "(39.183291592128803, 306.91883726058239)"
      ]
     },
     "execution_count": 30,
     "metadata": {},
     "output_type": "execute_result"
    }
   ],
   "source": [
    "#count jams by user and compute average and variance\n",
    "user_jam_counter = Counter([x['user'] for x in likes])\n",
    "np.mean(user_jam_counter.values()), np.std(user_jam_counter.values())"
   ]
  },
  {
   "cell_type": "code",
   "execution_count": 49,
   "metadata": {
    "collapsed": false
   },
   "outputs": [
    {
     "data": {
      "text/plain": [
       "1095173"
      ]
     },
     "execution_count": 49,
     "metadata": {},
     "output_type": "execute_result"
    }
   ],
   "source": [
    "len(likes)"
   ]
  },
  {
   "cell_type": "code",
   "execution_count": 19,
   "metadata": {
    "collapsed": false
   },
   "outputs": [
    {
     "ename": "NameError",
     "evalue": "name 'user_jam_counter' is not defined",
     "output_type": "error",
     "traceback": [
      "\u001b[1;31m---------------------------------------------------------------------------\u001b[0m",
      "\u001b[1;31mNameError\u001b[0m                                 Traceback (most recent call last)",
      "\u001b[1;32m<ipython-input-19-2aed91d9ba1f>\u001b[0m in \u001b[0;36m<module>\u001b[1;34m()\u001b[0m\n\u001b[0;32m      2\u001b[0m \u001b[1;31m#' THIS INTRODUCES BIAS IN THE SUBSET'\u001b[0m\u001b[1;33m\u001b[0m\u001b[1;33m\u001b[0m\u001b[0m\n\u001b[0;32m      3\u001b[0m \u001b[0muser_subset\u001b[0m \u001b[1;33m=\u001b[0m \u001b[0mset\u001b[0m\u001b[1;33m(\u001b[0m\u001b[1;33m)\u001b[0m\u001b[1;33m\u001b[0m\u001b[0m\n\u001b[1;32m----> 4\u001b[1;33m \u001b[1;32mfor\u001b[0m \u001b[0muser\u001b[0m \u001b[1;32min\u001b[0m \u001b[0muser_jam_counter\u001b[0m\u001b[1;33m.\u001b[0m\u001b[0mkeys\u001b[0m\u001b[1;33m(\u001b[0m\u001b[1;33m)\u001b[0m\u001b[1;33m:\u001b[0m\u001b[1;33m\u001b[0m\u001b[0m\n\u001b[0m\u001b[0;32m      5\u001b[0m     \u001b[1;32mif\u001b[0m \u001b[1;36m20\u001b[0m \u001b[1;33m<=\u001b[0m \u001b[0muser_jam_counter\u001b[0m\u001b[1;33m[\u001b[0m\u001b[0muser\u001b[0m\u001b[1;33m]\u001b[0m \u001b[1;33m<=\u001b[0m \u001b[1;36m200\u001b[0m\u001b[1;33m:\u001b[0m\u001b[1;33m\u001b[0m\u001b[0m\n\u001b[0;32m      6\u001b[0m         \u001b[0muser_subset\u001b[0m\u001b[1;33m.\u001b[0m\u001b[0madd\u001b[0m\u001b[1;33m(\u001b[0m\u001b[0muser\u001b[0m\u001b[1;33m)\u001b[0m\u001b[1;33m\u001b[0m\u001b[0m\n",
      "\u001b[1;31mNameError\u001b[0m: name 'user_jam_counter' is not defined"
     ]
    }
   ],
   "source": [
    "#now select users that have between 20 and 200 jams\n",
    "#' THIS INTRODUCES BIAS IN THE SUBSET'\n",
    "user_subset = set()\n",
    "for user in user_jam_counter.keys():\n",
    "    if 20 <= user_jam_counter[user] <= 200:\n",
    "        user_subset.add(user)"
   ]
  },
  {
   "cell_type": "code",
   "execution_count": null,
   "metadata": {
    "collapsed": false
   },
   "outputs": [],
   "source": [
    "#randomly choose 200 users to further restrict user_subset\n",
    "user_sample = set(random.sample(user_subset,250))"
   ]
  },
  {
   "cell_type": "code",
   "execution_count": null,
   "metadata": {
    "collapsed": false
   },
   "outputs": [],
   "source": [
    "#create a like subset\n",
    "like_subset = []\n",
    "for like in likes:\n",
    "        if like['user'] in user_sample:\n",
    "            like_subset.append(like)"
   ]
  },
  {
   "cell_type": "code",
   "execution_count": null,
   "metadata": {
    "collapsed": false
   },
   "outputs": [],
   "source": [
    "len(like_subset)"
   ]
  },
  {
   "cell_type": "code",
   "execution_count": 32,
   "metadata": {
    "collapsed": false
   },
   "outputs": [
    {
     "data": {
      "text/plain": [
       "8003"
      ]
     },
     "execution_count": 32,
     "metadata": {},
     "output_type": "execute_result"
    }
   ],
   "source": [
    "#count how many unique jams we get\n",
    "jam_counter = Counter([x['jam'] for x in likes])\n",
    "len(jam_counter.keys())"
   ]
  },
  {
   "cell_type": "code",
   "execution_count": 17,
   "metadata": {
    "collapsed": false
   },
   "outputs": [],
   "source": [
    "def jam_mapping(path):\n",
    "    mapping = {}\n",
    "    with open(path) as f:\n",
    "        for line in f:\n",
    "            values = line.split('\\t')\n",
    "            mapping[values[0].strip('\\n')] = values[1].strip('\\n')\n",
    "    return mapping\n",
    "get_msd_id = jam_mapping('msd_data/jam_to_msd.tsv')\n",
    "get_jam_id = inv_map = {v: k for k, v in get_msd_id.iteritems()}"
   ]
  },
  {
   "cell_type": "code",
   "execution_count": 11,
   "metadata": {
    "collapsed": false
   },
   "outputs": [
    {
     "data": {
      "text/plain": [
       "8450"
      ]
     },
     "execution_count": 11,
     "metadata": {},
     "output_type": "execute_result"
    }
   ],
   "source": [
    "#set of sampled jams as msd_ids\n",
    "sampled_jams = set()\n",
    "for jam_id in jam_counter.keys():\n",
    "    sampled_jams.add(get_msd_id[jam_id])\n",
    "len(sampled_jams)"
   ]
  },
  {
   "cell_type": "code",
   "execution_count": 12,
   "metadata": {
    "collapsed": false
   },
   "outputs": [],
   "source": [
    "#create dictionary that maps msd_id to song metadata\n",
    "f = tables.open_file('msd_data/msd_summary_file.h5', mode='r')\n",
    "tracks = {}\n",
    "for idx, msd_id in enumerate(f.root.analysis.songs.cols.track_id):\n",
    "    if msd_id in sampled_jams:\n",
    "        tracks[msd_id] = {'track_7digitalid':f.root.metadata.songs.cols.track_7digitalid[idx],\n",
    "                          'release_7digitalid':f.root.metadata.songs.cols.release_7digitalid[idx], \n",
    "                          'artist_7digitalid':f.root.metadata.songs.cols.artist_7digitalid[idx],\n",
    "                          'release': f.root.metadata.songs.cols.release[idx],\n",
    "                          'title': f.root.metadata.songs.cols.title[idx], \n",
    "                          'artist': f.root.metadata.songs.cols.artist_name[idx]}\n",
    "f.close()"
   ]
  },
  {
   "cell_type": "code",
   "execution_count": null,
   "metadata": {
    "collapsed": false
   },
   "outputs": [],
   "source": [
    "def create_db():\n",
    "    conn = sqlite3.connect(\"msd_data/analysis_data/sampled_likes_tracks.db\")\n",
    "    c = conn.cursor()\n",
    "    c.execute('''CREATE TABLE tracks (msd_id text, track_7digitalid integer, som_cluster integer, igmn_cluster integer, audio_path text)''')\n",
    "    conn.commit()\n",
    "    conn.close()\n",
    "#create_db()"
   ]
  },
  {
   "cell_type": "code",
   "execution_count": 13,
   "metadata": {
    "collapsed": false
   },
   "outputs": [],
   "source": [
    "os.chdir('/home/kayibal/sc-recom/code/msd_data/analysis_data')\n",
    "no_audio_set = set()\n",
    "with open('no_audio.txt') as f:\n",
    "    for line in f:\n",
    "        no_audio_set.add(line.strip())"
   ]
  },
  {
   "cell_type": "code",
   "execution_count": null,
   "metadata": {
    "collapsed": false
   },
   "outputs": [],
   "source": [
    "no_audio = []\n",
    "\n",
    "#database\n",
    "conn = sqlite3.connect(\"msd_data/analysis_data/sampled_likes_tracks.db\")\n",
    "c = conn.cursor()\n",
    "\n",
    "#iterate through selected tracks\n",
    "os.chdir('/home/kayibal/sc-recom/code/msd_data/analysis_data')\n",
    "it = 1\n",
    "for msd_id, track in tracks.iteritems():\n",
    "    print \"%d : %s \\t %s - %s\" % (it, msd_id, track['title'], track['artist'])\n",
    "    it += 1\n",
    "    dir_path = \"%s/%s/%s\" % (msd_id[2],msd_id[3], msd_id[4])\n",
    "    audio_path = os.path.join(dir_path, msd_id + \".mp3\")\n",
    "    if not (os.path.exists(audio_path)) and not msd_id in no_audio_set :\n",
    "        try:\n",
    "            audio_url, track_7digitalid = sevendigital_preview.get_url_from_dict(track)\n",
    "        except HTTPError:\n",
    "            print \"HTTP Error\"\n",
    "        if audio_url != None:\n",
    "            r = requests.get(audio_url, headers={'Connection':'close'})\n",
    "            if r.status_code == 404: \n",
    "                #sometimes the 7digital ids are old and not used anymore so we use other methods to get the track\n",
    "                print \"\\t retrying request\"\n",
    "                try:\n",
    "                    audio_url, track_7digitalid = sevendigital_preview.get_url_from_dict(track, deprecated_id = True)\n",
    "                except HTTPError:\n",
    "                    print \"HTTP Error\"\n",
    "                if audio_url != None:\n",
    "                        r = requests.get(audio_url, headers={'Connection':'close'})\n",
    "            if r.ok:\n",
    "                #write audio file\n",
    "                if not os.path.exists(dir_path):\n",
    "                    os.makedirs(dir_path)\n",
    "                with open(audio_path, 'wb') as handle:\n",
    "                    for block in r.iter_content(8*1024):\n",
    "                        handle.write(block)\n",
    "                #create db_entry\n",
    "                query = \"INSERT INTO tracks (msd_id, track_7digitalid, audio_path) VALUES ('%s',%d,'%s')\"\n",
    "                query = query % (msd_id, track_7digitalid, audio_path)\n",
    "                c.execute(query)\n",
    "                conn.commit()\n",
    "                print \"\\tSUCCESS AUDIO DOWNLOADED\"\n",
    "            else:\n",
    "                print \"\\t no audio: Request failed with code: %d \\n request url: %s\" % (r.status_code, audio_url)\n",
    "                no_audio.append(msd_id)\n",
    "                if \"limit\" in r.text.lower() or r.status_code == 401:\n",
    "                    print \"\\tLIMIT REACHED\"\n",
    "                    break\n",
    "                continue\n",
    "            r.connection.close()\n",
    "        else:\n",
    "            print \"\\t no audio: URL lookup failed\"\n",
    "            no_audio.append(msd_id)\n",
    "            continue\n",
    "    else:\n",
    "        print \"\\tskipped file already exists\"\n",
    "conn.close()\n",
    "'''\n",
    "with open(\"no_audio.txt\", \"w\") as f:\n",
    "    for item in no_audio:\n",
    "        f.write(\"%s\\n\" % item)\n",
    "'''\n",
    "os.chdir('/home/kayibal/sc-recom/code')\n"
   ]
  },
  {
   "cell_type": "code",
   "execution_count": 47,
   "metadata": {
    "collapsed": false
   },
   "outputs": [
    {
     "data": {
      "text/plain": [
       "<module 'sevendigital_preview' from 'sevendigital_preview.pyc'>"
      ]
     },
     "execution_count": 47,
     "metadata": {},
     "output_type": "execute_result"
    }
   ],
   "source": [
    "os.chdir('/home/kayibal/sc-recom/code')\n",
    "reload(sevendigital_preview)"
   ]
  },
  {
   "cell_type": "code",
   "execution_count": null,
   "metadata": {
    "collapsed": false
   },
   "outputs": [],
   "source": [
    "hopeless=[]\n",
    "\n",
    "#database\n",
    "conn = sqlite3.connect(\"/home/kayibal/sc-recom/code/msd_data/analysis_data/sampled_likes_tracks.db\")\n",
    "c = conn.cursor()\n",
    "\n",
    "#iterate through selected tracks\n",
    "os.chdir('/home/kayibal/sc-recom/code/msd_data/analysis_data')\n",
    "it = 1\n",
    "\n",
    "for msd_id in no_audio_set:\n",
    "    track = tracks[msd_id]\n",
    "    print \"%d : %s \\t %s - %s\" % (it, msd_id, track['title'], track['artist'])\n",
    "    it += 1\n",
    "    dir_path = \"%s/%s/%s\" % (msd_id[2],msd_id[3], msd_id[4])\n",
    "    audio_path = os.path.join(dir_path, msd_id + \".mp3\")\n",
    "    if not (os.path.exists(audio_path)):\n",
    "        audio_url = None\n",
    "        try:\n",
    "            audio_url, track_7digitalid = sevendigital_preview.get_url_simple(track)\n",
    "        except HTTPError,e:\n",
    "            break\n",
    "        if audio_url != None:\n",
    "            r = requests.get(audio_url, headers={'Connection':'close'})\n",
    "            if r.ok:\n",
    "                #write audio file\n",
    "                if not os.path.exists(dir_path):\n",
    "                    os.makedirs(dir_path)\n",
    "                with open(audio_path, 'wb') as handle:\n",
    "                    for block in r.iter_content(8*1024):\n",
    "                        handle.write(block)\n",
    "                #create db_entry\n",
    "                query = \"INSERT INTO tracks (msd_id, track_7digitalid, audio_path) VALUES ('%s',%d,'%s')\"\n",
    "                query = query % (msd_id, track_7digitalid, audio_path)\n",
    "                c.execute(query)\n",
    "                conn.commit()\n",
    "                print \"\\tSUCCESS AUDIO DOWNLOADED\"\n",
    "            else:\n",
    "                print \"\\t no audio: Request failed with code: %d \\n request url: %s\" % (r.status_code, audio_url)\n",
    "                hopeless.append(msd_id)\n",
    "                if \"limit\" in r.text.lower() or r.status_code == 401:\n",
    "                    print \"\\tLIMIT REACHED\"\n",
    "                    break\n",
    "                continue\n",
    "            r.connection.close()\n",
    "        else:\n",
    "            print \"\\t no audio: URL lookup failed\"\n",
    "            hopeless.append(msd_id)\n",
    "            continue\n",
    "    else:\n",
    "        print \"\\tskipped file already exists\"\n",
    "conn.close()"
   ]
  },
  {
   "cell_type": "code",
   "execution_count": null,
   "metadata": {
    "collapsed": false
   },
   "outputs": [],
   "source": [
    "#database\n",
    "conn = sqlite3.connect(\"/home/kayibal/sc-recom/code/msd_data/analysis_data/sampled_likes_tracks.db\")\n",
    "c = conn.cursor()\n",
    "c.execute(\"SELECT msd_id FROM tracks WHERE audio_path IS NOT NULL ORDER BY msd_id\")\n",
    "tracks = c.fetchall()\n",
    "conn.close()\n",
    "\n",
    "tracks = [t[0] for t in tracks]\n",
    "tracks_set = set(tracks)"
   ]
  },
  {
   "cell_type": "code",
   "execution_count": null,
   "metadata": {
    "collapsed": false
   },
   "outputs": [],
   "source": [
    "#update like subset to exclude hopeless jams\n",
    "#analysis_failed = ['TRLHQBM128F92D31BD', 'TRRJMYM128F4259501', 'TRRVWMI128F92E7D38','TRTOACI128F42819C7', 'TRBHQRU128F93129F9', 'TRIYPSF12903CDFAB8', 'TRNNKZA128F4226422']\n",
    "#hopeless_set = set(hopeless + analysis_failed) #set of msd_ids\n",
    "temp = []\n",
    "\n",
    "for like in like_subset:\n",
    "    if get_msd_id[like['jam']] in tracks_set:\n",
    "        temp.append(like)\n",
    "len(temp)"
   ]
  },
  {
   "cell_type": "code",
   "execution_count": null,
   "metadata": {
    "collapsed": true
   },
   "outputs": [],
   "source": [
    "like_subset_old = like_subset\n",
    "like_subset = temp"
   ]
  },
  {
   "cell_type": "code",
   "execution_count": 56,
   "metadata": {
    "collapsed": false
   },
   "outputs": [],
   "source": [
    "from math import floor\n",
    "\n",
    "user_likes = {}\n",
    "splitted_likes = {}\n",
    "new_likes = {}\n",
    "p = 0.9\n",
    "for like in likes:\n",
    "    if user_likes.has_key(like['user']):\n",
    "        user_likes[like['user']].append(like['jam'])\n",
    "    else:\n",
    "        user_likes[like['user']] = [like['jam']]\n",
    "\n",
    "for key,values in user_likes.iteritems():\n",
    "    if len(user_likes[key]) > 10:\n",
    "        new_likes[key] = Counter(values)\n",
    "    \n",
    "for user in new_likes.keys():\n",
    "    lks = new_likes[user].keys()\n",
    "    first = int(floor(len(lks) * p))\n",
    "    last = len(lks) - first\n",
    "    random.shuffle(lks)\n",
    "    splitted_likes[user] = {'rec':lks[:first], 'eval':lks[-last:]}"
   ]
  },
  {
   "cell_type": "code",
   "execution_count": 57,
   "metadata": {
    "collapsed": false
   },
   "outputs": [
    {
     "data": {
      "text/plain": [
       "5370"
      ]
     },
     "execution_count": 57,
     "metadata": {},
     "output_type": "execute_result"
    }
   ],
   "source": [
    "len(splitted_likes)"
   ]
  },
  {
   "cell_type": "code",
   "execution_count": 52,
   "metadata": {
    "collapsed": false
   },
   "outputs": [],
   "source": [
    "import pickle\n",
    "os.chdir('/home/kayibal/sc-recom/code/msd_data/')\n",
    "with open( \"eval_dic_big.p\", \"wb\" ) as f:\n",
    "    pickle.dump(splitted_likes, f)\n",
    "with open( \"like_dic_big.p\", \"wb\" ) as f:\n",
    "    pickle.dump(user_likes, f)"
   ]
  },
  {
   "cell_type": "code",
   "execution_count": 11,
   "metadata": {
    "collapsed": false
   },
   "outputs": [
    {
     "ename": "NameError",
     "evalue": "name 'likes' is not defined",
     "output_type": "error",
     "traceback": [
      "\u001b[1;31m---------------------------------------------------------------------------\u001b[0m",
      "\u001b[1;31mNameError\u001b[0m                                 Traceback (most recent call last)",
      "\u001b[1;32m<ipython-input-11-94aaebae72be>\u001b[0m in \u001b[0;36m<module>\u001b[1;34m()\u001b[0m\n\u001b[1;32m----> 1\u001b[1;33m \u001b[0mlen\u001b[0m\u001b[1;33m(\u001b[0m\u001b[0mlikes\u001b[0m\u001b[1;33m)\u001b[0m\u001b[1;33m\u001b[0m\u001b[0m\n\u001b[0m",
      "\u001b[1;31mNameError\u001b[0m: name 'likes' is not defined"
     ]
    }
   ],
   "source": [
    "len(likes)"
   ]
  },
  {
   "cell_type": "code",
   "execution_count": null,
   "metadata": {
    "collapsed": false
   },
   "outputs": [],
   "source": [
    "#calcuate usage prediction\n",
    "for user in user_likes.keys():\n",
    "    recommended_tracks[user] = get_recommendations(splitted_likes[user]['rec'])\n",
    "    tp += len(set(splitted_likes[user]['rec']) & set(recommended_tracks[user]))\n",
    "    fp += len(set(recommended_tracks[user]) - set(splitted_likes[user]['rec']))\n",
    "    fn += len(set(splitted_likes[user]['rec']) - set(recommended_tracks[user]))\n",
    "    tn += all_tracks - len(set(splitted_likes[user]['rec']) | set(recommended_tracks[user]))"
   ]
  },
  {
   "cell_type": "markdown",
   "metadata": {},
   "source": [
    "<h2> About Coverage </h2>\n",
    "<p>\n",
    "Coverage will be 100% as recommendations are selected using clustering and each song belongs to a cluster. This imposes a very high amount of recommended tracks using the SOM approach but might be much lower using IGMN with a high senibilty paramater.\n",
    "</p>"
   ]
  },
  {
   "cell_type": "code",
   "execution_count": null,
   "metadata": {
    "collapsed": false
   },
   "outputs": [],
   "source": [
    "from sklearn.cross_validation import KFold\n",
    "user_4fold\n",
    "for key in user_likes.keys():\n",
    "    "
   ]
  },
  {
   "cell_type": "code",
   "execution_count": 58,
   "metadata": {
    "collapsed": false
   },
   "outputs": [],
   "source": [
    "m = np.arange(25).reshape((5,5))"
   ]
  },
  {
   "cell_type": "code",
   "execution_count": 61,
   "metadata": {
    "collapsed": false
   },
   "outputs": [],
   "source": [
    "idx = np.where(np.diagonal(m)<18)"
   ]
  },
  {
   "cell_type": "code",
   "execution_count": 74,
   "metadata": {
    "collapsed": false
   },
   "outputs": [],
   "source": [
    "diag = np.diag(m).copy()\n",
    "idx = np.where(diag<18)\n",
    "diag[idx] = 100"
   ]
  },
  {
   "cell_type": "code",
   "execution_count": 76,
   "metadata": {
    "collapsed": false
   },
   "outputs": [],
   "source": [
    "np.fill_diagonal(m,diag)"
   ]
  },
  {
   "cell_type": "code",
   "execution_count": 77,
   "metadata": {
    "collapsed": false
   },
   "outputs": [
    {
     "data": {
      "text/plain": [
       "array([[100,   1,   2,   3,   4],\n",
       "       [  5, 100,   7,   8,   9],\n",
       "       [ 10,  11, 100,  13,  14],\n",
       "       [ 15,  16,  17,  18,  19],\n",
       "       [ 20,  21,  22,  23,  24]])"
      ]
     },
     "execution_count": 77,
     "metadata": {},
     "output_type": "execute_result"
    }
   ],
   "source": [
    "m"
   ]
  },
  {
   "cell_type": "code",
   "execution_count": null,
   "metadata": {
    "collapsed": true
   },
   "outputs": [],
   "source": []
  }
 ],
 "metadata": {
  "kernelspec": {
   "display_name": "Python 2",
   "language": "python",
   "name": "python2"
  },
  "language_info": {
   "codemirror_mode": {
    "name": "ipython",
    "version": 2
   },
   "file_extension": ".py",
   "mimetype": "text/x-python",
   "name": "python",
   "nbconvert_exporter": "python",
   "pygments_lexer": "ipython2",
   "version": "2.7.9"
  }
 },
 "nbformat": 4,
 "nbformat_minor": 0
}
