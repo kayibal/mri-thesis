{
 "cells": [
  {
   "cell_type": "code",
   "execution_count": 1,
   "metadata": {
    "collapsed": false
   },
   "outputs": [
    {
     "name": "stderr",
     "output_type": "stream",
     "text": [
      "/usr/lib/python2.7/dist-packages/matplotlib/__init__.py:1314: UserWarning:  This call to matplotlib.use() has no effect\n",
      "because the backend has already been chosen;\n",
      "matplotlib.use() must be called *before* pylab, matplotlib.pyplot,\n",
      "or matplotlib.backends is imported for the first time.\n",
      "\n",
      "  warnings.warn(_use_error_msg)\n",
      "/usr/local/share/.virtualenvs/sc-recom/local/lib/python2.7/site-packages/IPython/html.py:14: ShimWarning: The `IPython.html` package has been deprecated. You should import from `notebook` instead. `IPython.html.widgets` has moved to `ipywidgets`.\n",
      "  \"`IPython.html.widgets` has moved to `ipywidgets`.\", ShimWarning)\n"
     ]
    }
   ],
   "source": [
    "%matplotlib inline  \n",
    "\n",
    "import matplotlib\n",
    "matplotlib.use(\"Qt4Agg\")\n",
    "import numpy as np\n",
    "import matplotlib.pyplot as plt\n",
    "import os\n",
    "import glob\n",
    "import sqlite3\n",
    "from time import time\n",
    "import audioanalytics\n",
    "reload(audioanalytics)\n",
    "from audioanalytics import *\n",
    "import pca\n",
    "reload(pca)\n",
    "from pca import Pca\n",
    "import tables\n",
    "\n",
    "from IPython.html.widgets import FloatProgress\n",
    "from IPython.display import display\n"
   ]
  },
  {
   "cell_type": "code",
   "execution_count": null,
   "metadata": {
    "collapsed": false
   },
   "outputs": [],
   "source": [
    "#database\n",
    "conn = sqlite3.connect(\"/home/kayibal/sc-recom/code/msd_data/analysis_data/sampled_likes_tracks.db\")\n",
    "c = conn.cursor()\n",
    "c.execute(\"SELECT msd_id, audio_path FROM tracks WHERE audio_path IS NOT NULL ORDER BY msd_id\")\n",
    "tracks = c.fetchall()\n",
    "conn.close()"
   ]
  },
  {
   "cell_type": "code",
   "execution_count": null,
   "metadata": {
    "collapsed": false,
    "scrolled": true
   },
   "outputs": [],
   "source": [
    "l = len(tracks)\n",
    "it = 1.\n",
    "durations = []\n",
    "\n",
    "f = FloatProgress(min=0, max=100)\n",
    "display(f)\n",
    "\n",
    "small = []\n",
    "error = []\n",
    "for msd_id, path in tracks:\n",
    "    print \"%s:\" % path\n",
    "    start = time()\n",
    "    abs_path = os.path.join(\"/home/kayibal/sc-recom/code/msd_data/analysis_data\",path)\n",
    "    save_path = os.path.dirname(abs_path)\n",
    "    \n",
    "    if not os.path.exists(os.path.join(save_path,msd_id+\"_fluc.npy\")):\n",
    "        try:\n",
    "            fp = FluctuationPattern(abs_path,chunk=16,Hz=11025)\n",
    "            fm = fp.get_feature_matrix()\n",
    "            np.save(os.path.join(save_path,msd_id+\"_fluc\"),fm)\n",
    "        except SmallFileError,e:\n",
    "            small.append(msd_id)\n",
    "            continue\n",
    "        except KeyboardInterrupt:\n",
    "            raise\n",
    "        except Exception,e:\n",
    "            error.append((msd_id,path,e))\n",
    "            continue\n",
    "    if not os.path.exists(os.path.join(save_path,msd_id+\"_mfcc.npy\")):\n",
    "        try:\n",
    "            mfcc = MFCC(abs_path,mel_bands=24)\n",
    "            np.save(os.path.join(save_path,msd_id+\"_mfcc\"),mfcc.mfcc)\n",
    "        except SmallFileError,e:\n",
    "            small.append(msd_id)\n",
    "            continue\n",
    "        except KeyboardInterrupt:\n",
    "            raise\n",
    "        except Exception,e:\n",
    "            error.append((msd_id,path,e))\n",
    "            continue\n",
    "        durations.append(time()- start)\n",
    "    if not os.path.exists(os.path.join(save_path,msd_id+\"_mfcc_delta.npy\")):\n",
    "        try:\n",
    "            mfcc = MFCC(abs_path,mel_bands=24)\n",
    "            np.save(os.path.join(save_path,msd_id+\"_mfcc\"),mfcc.mfcc)\n",
    "        except SmallFileError,e:\n",
    "            small.append(msd_id)\n",
    "            continue\n",
    "        except KeyboardInterrupt:\n",
    "            raise\n",
    "        except Exception,e:\n",
    "            error.append((msd_id,path,e))\n",
    "            continue\n",
    "        durations.append(time()- start)\n",
    "    rem_time = np.mean(durations) * (l - it)\n",
    "    f.value = (it/l)*100\n",
    "    print \"progress %f remaining time %s\" % ((it/l)*100, str(round(rem_time/60.,3)))\n",
    "    it = it + 1."
   ]
  },
  {
   "cell_type": "code",
   "execution_count": null,
   "metadata": {
    "collapsed": false
   },
   "outputs": [],
   "source": [
    "#database\n",
    "conn = sqlite3.connect(\"/home/kayibal/sc-recom/code/msd_data/analysis_data/sampled_likes_tracks.db\")\n",
    "c = conn.cursor()\n",
    "#remove failed files from database\n",
    "query = \"DELETE FROM tracks WHERE msd_id IN (%s)\" % \"'TRLHQBM128F92D31BD', 'TRRJMYM128F4259501', 'TRRVWMI128F92E7D38','TRTOACI128F42819C7', 'TRBHQRU128F93129F9', 'TRIYPSF12903CDFAB8', 'TRNNKZA128F4226422'\"\n",
    "c.execute(query)\n",
    "conn.commit()\n",
    "conn.close()"
   ]
  },
  {
   "cell_type": "code",
   "execution_count": null,
   "metadata": {
    "collapsed": false
   },
   "outputs": [],
   "source": [
    "#collect all data\n",
    "try:\n",
    "    f = tables.open_file(\"/home/kayibal/sc-recom/code/msd_data/analysis_data/analysis2.h5\", mode=\"w\", title=\"Audio Analysis File\")\n",
    "    f.create_group('/', 'analysis', \"Audio Analysis Data Matrices\")\n",
    "\n",
    "    filters = tables.Filters(complevel=5, complib='blosc')\n",
    "    dt = tables.Atom.from_dtype(np.dtype('float64'))\n",
    "\n",
    "    flucs_data = f.createCArray(f.root.analysis, 'flucs',\n",
    "                                          dt,\n",
    "                                          shape=(1440,len(tracks)),\n",
    "                                          filters=filters)\n",
    "\n",
    "    mfcc_data = f.createEArray(f.root.analysis, 'mfccs',\n",
    "                              dt,\n",
    "                              shape=(14, 0),\n",
    "                              filters=filters,\n",
    "                              expectedrows=15e+6)\n",
    "\n",
    "    mfcc_dyn_data = f.createEArray(f.root.analysis, 'mfcc_dyns',\n",
    "                                  dt,\n",
    "                                  shape=(131, 0),\n",
    "                                  filters=filters,\n",
    "                                  expectedrows=15e+5)\n",
    "\n",
    "    mfcc_delta_data = f.createEArray(f.root.analysis, 'mfcc_deltas',\n",
    "                                      dt,\n",
    "                                      shape=(14, 0),\n",
    "                                      filters=filters,\n",
    "                                      expectedrows=15e+6)\n",
    "\n",
    "    mfcc_delta_dyn_data = f.createEArray(f.root.analysis, 'mfcc_delta_dyns',\n",
    "                                          dt,\n",
    "                                          shape=(131, 0),\n",
    "                                          filters=filters,\n",
    "                                          expectedrows=15e+5)\n",
    "\n",
    "    mfcc_median_data = f.createCArray(f.root.analysis, 'mfcc_medians',\n",
    "                                      dt,\n",
    "                                      shape=(130,len(tracks)),\n",
    "                                      filters=filters)\n",
    "    mfcc_median_delta_data = f.createCArray(f.root.analysis, 'mfcc_delta_medians',\n",
    "                                            dt,\n",
    "                                            shape=(130,len(tracks)),\n",
    "                                            filters=filters)\n",
    "\n",
    "    f = FloatProgress(min=0, max=100)\n",
    "    display(f)\n",
    "\n",
    "    idx = 0\n",
    "    for msd_id, path in tracks:\n",
    "        #print \"%s:\" % path\n",
    "        start = time()\n",
    "        abs_path = os.path.join(\"/home/kayibal/sc-recom/code/msd_data/analysis_data\",path)\n",
    "        save_path = os.path.dirname(abs_path)\n",
    "        fp = np.load(os.path.join(save_path,msd_id+\"_fluc.npy\"))\n",
    "        mfcc = np.load(os.path.join(save_path,msd_id+\"_mfcc.npy\"))\n",
    "        mfcc_delta = np.load(os.path.join(save_path,msd_id+\"_mfcc_delta.npy\"))\n",
    "        flucs_data[:,idx] = fp.flatten()\n",
    "\n",
    "        #add index information to mfcc data\n",
    "        mfcc_idx = np.zeros((14,mfcc.shape[1]))\n",
    "        mfcc_idx[0,:] = idx\n",
    "        mfcc_idx[1:,:] = mfcc\n",
    "        mfcc_data.append(mfcc_idx)\n",
    "\n",
    "        mfcc_delta_idx = np.zeros((14,mfcc.shape[1]))\n",
    "        mfcc_delta_idx[0,:] = idx\n",
    "        mfcc_idx[1:,:] = mfcc_delta\n",
    "        mfcc_delta_data.append(mfcc_delta_idx)\n",
    "\n",
    "        #reshape mfcc\n",
    "        length = floor(mfcc.shape[1]/10.)*10\n",
    "        temp = np.zeros((131,length/10))\n",
    "        temp[0,:] = idx\n",
    "        temp[1:,:] = mfcc[:,:length].reshape((130,-1),order=\"F\")\n",
    "        mfcc_median_data[:,idx] = np.median(temp[1:,:], axis=1)\n",
    "        mfcc_dyn_data.append(temp)\n",
    "\n",
    "        length = floor(mfcc_delta.shape[1]/10.)*10\n",
    "        temp = np.zeros((131,length/10))\n",
    "        temp[0,:] = idx\n",
    "        temp[1:,:] = mfcc_delta[:,:length].reshape((130,-1),order=\"F\")\n",
    "        mfcc_median_delta_data[:,idx] = np.median(temp[1:,:], axis=1)\n",
    "        mfcc_delta_dyn_data.append(temp)\n",
    "\n",
    "        idx += 1\n",
    "        f.value = float(idx)/len(tracks) * 100\n",
    "except Exception:\n",
    "    f.close()\n",
    "    raise"
   ]
  },
  {
   "cell_type": "code",
   "execution_count": null,
   "metadata": {
    "collapsed": false
   },
   "outputs": [],
   "source": [
    "fluc_pca = Pca(flucs_data.transpose())"
   ]
  },
  {
   "cell_type": "code",
   "execution_count": null,
   "metadata": {
    "collapsed": false
   },
   "outputs": [],
   "source": [
    "comp = fluc_pca.project_data(flucs_data,0.70)"
   ]
  },
  {
   "cell_type": "code",
   "execution_count": null,
   "metadata": {
    "collapsed": false
   },
   "outputs": [],
   "source": [
    "np.unique(np.where(np.isnan(mfccs_mean_data))[1])"
   ]
  },
  {
   "cell_type": "code",
   "execution_count": null,
   "metadata": {
    "collapsed": false
   },
   "outputs": [],
   "source": [
    "m = MFCC(os.path.join(\"/home/kayibal/sc-recom/code/msd_data/analysis_data\",tracks[3988][1]))\n",
    "mfcc = m.mfcc\n",
    "length = floor(mfcc.shape[1]/10.)*10\n",
    "temp = mfcc[:,:length].reshape((130,-1),order=\"F\")\n",
    "mfccs_mean_data[:,3988] = np.mean(temp, axis=1)\n",
    "mfccs_median_data[:,3988] = np.median(temp, axis=1)"
   ]
  },
  {
   "cell_type": "code",
   "execution_count": null,
   "metadata": {
    "collapsed": false
   },
   "outputs": [],
   "source": [
    "m = MFCC(os.path.join(\"/home/kayibal/sc-recom/code/msd_data/analysis_data\",tracks[6312][1]))\n",
    "mfcc = m.mfcc\n",
    "length = floor(mfcc.shape[1]/10.)*10\n",
    "temp = mfcc[:,:length].reshape((130,-1),order=\"F\")\n",
    "mfccs_mean_data[:,6312] = np.mean(temp, axis=1)\n",
    "mfccs_median_data[:,6312] = np.median(temp, axis=1)"
   ]
  },
  {
   "cell_type": "code",
   "execution_count": null,
   "metadata": {
    "collapsed": false
   },
   "outputs": [],
   "source": [
    "mfcc_mean_pca = Pca(mfccs_mean_data.transpose())\n",
    "mfcc_median_pca = Pca(mfccs_median_data.transpose())"
   ]
  },
  {
   "cell_type": "code",
   "execution_count": null,
   "metadata": {
    "collapsed": false
   },
   "outputs": [],
   "source": [
    "mfcc_mean_comp = mfcc_mean_pca.project_data(mfccs_mean_data,0.9)\n",
    "mfcc_median_comp = mfcc_median_pca.project_data(mfccs_median_data,0.85)"
   ]
  },
  {
   "cell_type": "code",
   "execution_count": null,
   "metadata": {
    "collapsed": false
   },
   "outputs": [],
   "source": [
    "mfcc_median_comp.shape"
   ]
  },
  {
   "cell_type": "code",
   "execution_count": null,
   "metadata": {
    "collapsed": false
   },
   "outputs": [],
   "source": [
    "A_features = np.vstack((comp,mfcc_mean_comp)) \n",
    "B_features = np.vstack((comp,mfcc_median_comp))"
   ]
  },
  {
   "cell_type": "code",
   "execution_count": null,
   "metadata": {
    "collapsed": false
   },
   "outputs": [],
   "source": [
    "C_features = np.vstack((comp,mfcc_mean_comp, mfcc_median_comp)) "
   ]
  },
  {
   "cell_type": "code",
   "execution_count": null,
   "metadata": {
    "collapsed": false
   },
   "outputs": [],
   "source": [
    "f = tables.open_file(\"/home/kayibal/sc-recom/code/msd_data/analysis_data/analysis.h5\", mode=\"w\", title=\"Audio Analysis File\")\n",
    "atom = tables.Atom.from_dtype(flucs_data.dtype)\n",
    "f.create_group('/', 'analysis', \"Audio Analysis Data Matrices\")\n",
    "fd = f.create_carray(f.root.analysis, \"fluctuations\", atom, flucs_data.shape)\n",
    "m1 = f.create_carray(f.root.analysis, \"mfcc_means\", atom, mfccs_mean_data.shape)\n",
    "m2 = f.create_carray(f.root.analysis, \"mfcc_medians\", atom, mfccs_median_data.shape)\n",
    "A = f.create_carray(f.root.analysis, \"A_features\", atom, A_features.shape)\n",
    "B = f.create_carray(f.root.analysis, \"B_features\", atom, B_features.shape)\n",
    "C = f.create_carray(f.root.analysis, \"C_features\", atom, C_features.shape)\n",
    "fd[:] = flucs_data\n",
    "m1[:] = mfccs_mean_data\n",
    "m2[:] = mfccs_median_data\n",
    "A[:] = A_features\n",
    "B[:] = B_features\n",
    "C[:] = C_features\n",
    "f.close()"
   ]
  },
  {
   "cell_type": "code",
   "execution_count": null,
   "metadata": {
    "collapsed": false
   },
   "outputs": [],
   "source": [
    "msd_ids = np.array([t[0] for t in tracks])\n",
    "\n",
    "f = tables.open_file(\"/home/kayibal/sc-recom/code/msd_data/analysis_data/analysis.h5\", mode=\"a\")\n",
    "f.create_group('/', 'metadata', \"Audio Analysis Data Matrices\")\n",
    "atom = tables.Atom.from_dtype(msd_ids.dtype)\n",
    "ids = f.create_carray(f.root.analysis, \"msd_ids\", atom, msd_ids.shape)\n",
    "ids[:] = msd_ids\n",
    "f.close()"
   ]
  },
  {
   "cell_type": "code",
   "execution_count": null,
   "metadata": {
    "collapsed": true
   },
   "outputs": [],
   "source": [
    "m = np.arange(100).reshape((10,10))\n",
    "m2 = np.arange(100)"
   ]
  },
  {
   "cell_type": "code",
   "execution_count": null,
   "metadata": {
    "collapsed": false
   },
   "outputs": [],
   "source": [
    "m[3,3]"
   ]
  },
  {
   "cell_type": "code",
   "execution_count": null,
   "metadata": {
    "collapsed": false
   },
   "outputs": [],
   "source": [
    "np.ravel_multi_index((3,3),(10,10))"
   ]
  },
  {
   "cell_type": "code",
   "execution_count": null,
   "metadata": {
    "collapsed": false
   },
   "outputs": [],
   "source": [
    "f.close()"
   ]
  },
  {
   "cell_type": "code",
   "execution_count": null,
   "metadata": {
    "collapsed": false,
    "scrolled": true
   },
   "outputs": [],
   "source": [
    "from sklearn.decomposition import IncrementalPCA as IPCA\n",
    "#pca over mfcc dynamics\n",
    "ipca = IPCA(n_components = 20)\n",
    "f = tables.open_file(\"/home/kayibal/sc-recom/code/msd_data/analysis_data/analysis2.h5\", mode=\"a\")\n",
    "\n",
    "\n",
    "length = f.root.analysis.mfcc_delta_dyns.shape[1]\n",
    "dt = tables.Atom.from_dtype(np.dtype('float64'))\n",
    "filters = tables.Filters(complevel=5, complib='blosc')\n",
    "source = f.root.analysis.mfcc_dyns\n",
    "target = f.root.analysis.dyns_comp\n",
    "\n",
    "#source = f.root.analysis.mfcc_dyns\n",
    "#target = f.root.analysis.mfcc_dyn_comp\n",
    "\n",
    "\n",
    "chunk_size = 6790\n",
    "chunk = np.asarray([0,chunk_size])\n",
    "times = int(floor(float(length) / chunk_size))\n",
    "\n",
    "prog = FloatProgress(min=0, max=100)\n",
    "display(prog)\n",
    "\n",
    "rng = chunk\n",
    "\n",
    "for i,r in enumerate(source.iterrows(step=chunk_size)):\n",
    "    ipca.fit(np.asarray(source.read(start=rng[0], stop= rng[1]))[1:,:].transpose())\n",
    "    prog.value = (float(i)/times)*100.\n",
    "    rng = rng+chunk_size\n",
    "    \n",
    "prog = FloatProgress(min=0, max=100)\n",
    "display(prog)\n",
    "\n",
    "rng = chunk\n",
    "for i,r in enumerate(source.iterrows(step=chunk_size)):\n",
    "    print rng, target.shape[1]\n",
    "    target.append(ipca.transform(np.asarray(source.read(start=rng[0], stop= rng[1]))[1:,:].transpose()).transpose())\n",
    "    prog.value = (float(i)/times)*100.\n",
    "    rng = rng+chunk_size\n",
    "\n",
    "f.close()\n"
   ]
  },
  {
   "cell_type": "code",
   "execution_count": null,
   "metadata": {
    "collapsed": false
   },
   "outputs": [],
   "source": []
  },
  {
   "cell_type": "markdown",
   "metadata": {
    "collapsed": false
   },
   "source": [
    "<h2>Feature Selection</h2>\n",
    "<p>After compressing the data we can select the most common features for each Song</p>"
   ]
  },
  {
   "cell_type": "code",
   "execution_count": null,
   "metadata": {
    "collapsed": false
   },
   "outputs": [],
   "source": [
    "def get_song(data, indizes, start_idx = 0, end_idx = 400):\n",
    "    #first get the data from the array\n",
    "    mult = 2\n",
    "    while len(np.unique(indizes[start_idx:end_idx])) <= 1 and end_idx < len(indizes):\n",
    "        end_idx += end_idx * mult\n",
    "        mult = mult**2\n",
    "    if end_idx >= len(indizes) and end_idx - start_idx < 1e4:\n",
    "        end_idx = len(indizes)-1\n",
    "    song_idx = np.unique(indizes[start_idx:end_idx])[0]\n",
    "    song_frame = np.where(indizes[start_idx:end_idx]==song_idx)[0]\n",
    "    return song_frame[-1], data[:,song_frame[0]:song_frame[-1]]"
   ]
  },
  {
   "cell_type": "code",
   "execution_count": null,
   "metadata": {
    "collapsed": false
   },
   "outputs": [],
   "source": []
  },
  {
   "cell_type": "code",
   "execution_count": null,
   "metadata": {
    "collapsed": false
   },
   "outputs": [],
   "source": [
    "f = tables.open_file(\"/home/kayibal/sc-recom/code/msd_data/analysis_data/analysis2.h5\", mode=\"r\")\n",
    "indizes = f.root.analysis.mfcc_dyns[0,:]\n",
    "data = f.root.analysis.dyns_comp\n",
    "end_idx, song = get_song(data,indizes)"
   ]
  },
  {
   "cell_type": "code",
   "execution_count": null,
   "metadata": {
    "collapsed": false
   },
   "outputs": [],
   "source": [
    "end_idx"
   ]
  },
  {
   "cell_type": "code",
   "execution_count": null,
   "metadata": {
    "collapsed": false
   },
   "outputs": [],
   "source": [
    "f.close()"
   ]
  },
  {
   "cell_type": "code",
   "execution_count": null,
   "metadata": {
    "collapsed": false
   },
   "outputs": [],
   "source": [
    "test = []\n",
    "for i in range(30):\n",
    "    test.append(range(20))\n"
   ]
  },
  {
   "cell_type": "code",
   "execution_count": null,
   "metadata": {
    "collapsed": false
   },
   "outputs": [],
   "source": [
    "test = np.asarray(test)\n",
    "np.sum(test, axis=1)"
   ]
  },
  {
   "cell_type": "code",
   "execution_count": 5,
   "metadata": {
    "collapsed": false
   },
   "outputs": [],
   "source": [
    "#get datarange\n",
    "maxs = []\n",
    "mins = []\n",
    "f = tables.open_file(\"/home/kayibal/sc-recom/code/msd_data/analysis_data/analysis2.h5\", mode=\"r\")\n",
    "source = f.root.analysis.mfccs\n",
    "for i,r in enumerate(source.iterrows(10000)):\n",
    "    if source.read(start=i*10000, stop=-1+(i+1)*10000).shape[1] > 0:\n",
    "        maxs.append(np.max(np.asarray(source.read(start=i*10000, stop=-1+(i+1)*10000)), axis=1))\n",
    "        mins.append(np.min(np.asarray(source.read(start=i*10000, stop=-1+(i+1)*10000)), axis=1))\n",
    "f.close()\n",
    "source = None\n",
    "dataRange = np.max(np.asarray(maxs),axis=0) - np.min(np.asarray(mins),axis=0)"
   ]
  },
  {
   "cell_type": "code",
   "execution_count": 7,
   "metadata": {
    "collapsed": false
   },
   "outputs": [
    {
     "data": {
      "text/plain": [
       "array([  8.00200000e+03,   5.84141838e+01,   2.08015485e+01,\n",
       "         1.65209375e+01,   1.94503039e+01,   1.35371962e+01,\n",
       "         9.29015120e+00,   1.23930666e+01,   1.13649391e+01,\n",
       "         9.03732514e+00,   7.11169440e+00,   7.03016642e+00,\n",
       "         7.68339751e+00,   5.98430015e+00])"
      ]
     },
     "execution_count": 7,
     "metadata": {},
     "output_type": "execute_result"
    }
   ],
   "source": [
    "dataRange"
   ]
  },
  {
   "cell_type": "code",
   "execution_count": 3,
   "metadata": {
    "collapsed": false
   },
   "outputs": [],
   "source": [
    "from igmn import IGMN"
   ]
  },
  {
   "cell_type": "code",
   "execution_count": null,
   "metadata": {
    "collapsed": false
   },
   "outputs": [],
   "source": [
    "m = IGMN(dataRange=dataRange, tau=0.15, delta=0.1, spmin=2, vmin=10)\n",
    "f = tables.open_file(\"/home/kayibal/sc-recom/code/msd_data/analysis_data/analysis2.h5\", mode=\"r\")\n",
    "source = f.root.analysis.mfccs\n",
    "\n",
    "prog = FloatProgress(min=0, max=100)\n",
    "display(prog)\n",
    "\n",
    "for i,r in enumerate(source.iterrows(step=1000)):\n",
    "    m.train(np.asarray(source.read(start=i*1000, stop=-1+(i+1)*1000)).transpose())\n",
    "    prog.value = float(i*1000)*100/source.shape[1]"
   ]
  },
  {
   "cell_type": "code",
   "execution_count": null,
   "metadata": {
    "collapsed": false
   },
   "outputs": [],
   "source": [
    "from sklearn import mixture\n",
    "m = mixture.GMM(n_components=64, covariance_type=\"full\")\n",
    "f = tables.open_file(\"/home/kayibal/sc-recom/code/msd_data/analysis_data/analysis2.h5\", mode=\"r\")\n",
    "source = f.root.analysis.mfccs\n",
    "\n",
    "prog = FloatProgress(min=0, max=100)\n",
    "display(prog)\n",
    "\n",
    "for i,r in enumerate(source.iterrows(step=1000)):\n",
    "    m.fit(np.asarray(source.read(start=i*1000, stop=-1+(i+1)*1000)).transpose())\n",
    "    prog.value = float(i*1000)*100/source.shape[1]"
   ]
  },
  {
   "cell_type": "code",
   "execution_count": 17,
   "metadata": {
    "collapsed": false
   },
   "outputs": [],
   "source": [
    "f.close()"
   ]
  },
  {
   "cell_type": "code",
   "execution_count": null,
   "metadata": {
    "collapsed": false
   },
   "outputs": [],
   "source": [
    "np.sum(m.get_song_rep(song.transpose()), axis=0)"
   ]
  },
  {
   "cell_type": "code",
   "execution_count": null,
   "metadata": {
    "collapsed": false
   },
   "outputs": [],
   "source": [
    "f = tables.open_file(\"/home/kayibal/sc-recom/code/msd_data/analysis_data/analysis2.h5\", mode=\"a\")\n",
    "source = f.root.analysis.dyns_comp\n",
    "target = f.root.analysis.gaussian_rep\n",
    "indizes = f.root.analysis.mfcc_dyns[0,:]\n",
    "\n",
    "song_idx = np.zeros((2,8003))\n",
    "for i in range(8003):\n",
    "    idx = np.where(indizes==i)[0]\n",
    "    song_idx[0,i] = idx[0]\n",
    "    song_idx[1,i] = idx[-1]"
   ]
  },
  {
   "cell_type": "code",
   "execution_count": null,
   "metadata": {
    "collapsed": false
   },
   "outputs": [],
   "source": [
    "f.close()"
   ]
  },
  {
   "cell_type": "code",
   "execution_count": null,
   "metadata": {
    "collapsed": false
   },
   "outputs": [],
   "source": [
    "song_idx[1,:]"
   ]
  },
  {
   "cell_type": "code",
   "execution_count": null,
   "metadata": {
    "collapsed": false,
    "scrolled": true
   },
   "outputs": [],
   "source": [
    "f = tables.open_file(\"/home/kayibal/sc-recom/code/msd_data/analysis_data/analysis2.h5\", mode=\"a\")\n",
    "source = f.root.analysis.dyns_comp\n",
    "target = f.root.analysis.gaussian_rep\n",
    "\n",
    "for i in range(8003):\n",
    "    song = source[:,song_idx[i,0]:song_idx[i,1]]\n",
    "    target[:,i] = np.sum(m.get_song_rep(song.transpose()), axis=0)\n",
    "    print i\n",
    "f.close()"
   ]
  },
  {
   "cell_type": "code",
   "execution_count": null,
   "metadata": {
    "collapsed": false
   },
   "outputs": [],
   "source": [
    "f = tables.open_file(\"/home/kayibal/sc-recom/code/msd_data/analysis_data/analysis2.h5\", mode=\"a\")\n",
    "np.save(\"/home/kayibal/sc-recom/code/msd_data/analysis_data/gaussian_rep\", np.asarray(f.root.analysis.gaussian_rep))"
   ]
  },
  {
   "cell_type": "code",
   "execution_count": null,
   "metadata": {
    "collapsed": false
   },
   "outputs": [],
   "source": []
  },
  {
   "cell_type": "code",
   "execution_count": null,
   "metadata": {
    "collapsed": false
   },
   "outputs": [],
   "source": [
    "f = tables.open_file(\"/home/kayibal/sc-recom/code/msd_data/analysis_data/analysis2.h5\", mode=\"a\")\n",
    "\n",
    "ipca1 = IPCA(n_components = 40)\n",
    "ipca2 = IPCA(n_components = 40)\n",
    "medians_comp[:] = ipca1.fit_transform(np.asarray(f.root.analysis.mfcc_medians).transpose()).transpose()\n",
    "delta_comp[:] = ipca2.fit_transform(np.asarray(f.root.analysis.mfcc_delta_medians).transpose()).transpose()\n",
    "f.close()"
   ]
  },
  {
   "cell_type": "code",
   "execution_count": null,
   "metadata": {
    "collapsed": false
   },
   "outputs": [],
   "source": [
    "%debug"
   ]
  },
  {
   "cell_type": "code",
   "execution_count": null,
   "metadata": {
    "collapsed": false
   },
   "outputs": [],
   "source": [
    "f = tables.open_file(\"/home/kayibal/sc-recom/code/msd_data/analysis_data/analysis2.h5\", mode=\"a\")\n",
    "f.root.analysis"
   ]
  },
  {
   "cell_type": "code",
   "execution_count": null,
   "metadata": {
    "collapsed": true
   },
   "outputs": [],
   "source": [
    "f.close()"
   ]
  },
  {
   "cell_type": "code",
   "execution_count": null,
   "metadata": {
    "collapsed": true
   },
   "outputs": [],
   "source": [
    "f.close()"
   ]
  },
  {
   "cell_type": "code",
   "execution_count": null,
   "metadata": {
    "collapsed": true
   },
   "outputs": [],
   "source": []
  }
 ],
 "metadata": {
  "kernelspec": {
   "display_name": "Python 2",
   "language": "python",
   "name": "python2"
  },
  "language_info": {
   "codemirror_mode": {
    "name": "ipython",
    "version": 2
   },
   "file_extension": ".py",
   "mimetype": "text/x-python",
   "name": "python",
   "nbconvert_exporter": "python",
   "pygments_lexer": "ipython2",
   "version": "2.7.9"
  }
 },
 "nbformat": 4,
 "nbformat_minor": 0
}
