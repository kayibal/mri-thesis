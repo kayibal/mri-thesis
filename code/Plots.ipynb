{
 "cells": [
  {
   "cell_type": "code",
   "execution_count": 9,
   "metadata": {
    "collapsed": false
   },
   "outputs": [],
   "source": [
    "%matplotlib inline  \n",
    "\n",
    "\n",
    "import numpy as np\n",
    "import matplotlib.pyplot as plt\n",
    "import numpy as np\n",
    "from audioanalytics import *\n",
    "import matplotlib.colors as colors\n",
    "import os\n",
    "import tables\n",
    "from sklearn.decomposition import PCA\n",
    "from sklearn.preprocessing import MinMaxScaler"
   ]
  },
  {
   "cell_type": "code",
   "execution_count": 2,
   "metadata": {
    "collapsed": true
   },
   "outputs": [],
   "source": [
    "os.chdir(\"plots/audio\")"
   ]
  },
  {
   "cell_type": "code",
   "execution_count": null,
   "metadata": {
    "collapsed": false
   },
   "outputs": [],
   "source": [
    "classic = AudioAnalytics('Beethoven-Piano Sonata-classical.mp3')\n",
    "classic.powerspectrum()\n",
    "plt.figure()\n",
    "plt.imshow(np.log(classic.processed), origin='lower', aspect='auto', interpolation='nearest')"
   ]
  },
  {
   "cell_type": "code",
   "execution_count": null,
   "metadata": {
    "collapsed": false
   },
   "outputs": [],
   "source": [
    "hiphop = AudioAnalytics('CuzOh-Take You Home-hiphop.mp3')\n",
    "hiphop.powerspectrum()"
   ]
  },
  {
   "cell_type": "code",
   "execution_count": null,
   "metadata": {
    "collapsed": false
   },
   "outputs": [],
   "source": [
    "electro = AudioAnalytics('So Inawaga-Logo Queen-electronic.mp3')\n",
    "electro.powerspectrum()"
   ]
  },
  {
   "cell_type": "code",
   "execution_count": null,
   "metadata": {
    "collapsed": false
   },
   "outputs": [],
   "source": [
    "metal = AudioAnalytics('clean-inheritance from the classical-metal.mp3')\n",
    "metal.powerspectrum()\n",
    "fig = plt.figure(figsize=(20,10))\n",
    "plt.subplot(221)\n",
    "plt.ylabel(\"frequency\")\n",
    "plt.xlabel(\"time\")\n",
    "plt.title(\"Metal Style Powerspectrum\")\n",
    "plt.imshow(np.log(metal.processed), origin='lower', aspect='auto', interpolation='nearest')\n",
    "plt.subplot(222)\n",
    "plt.ylabel(\"frequency\")\n",
    "plt.xlabel(\"time\")\n",
    "plt.title(\"Classical Style Powerspectrum\")\n",
    "plt.imshow(np.log(classic.processed), origin='lower', aspect='auto', interpolation='nearest')\n",
    "plt.subplot(223)\n",
    "plt.ylabel(\"frequency\")\n",
    "plt.xlabel(\"time\")\n",
    "plt.title(\"Hip Hop Style Powerspectrum\")\n",
    "plt.imshow(np.log(hiphop.processed), origin='lower', aspect='auto', interpolation='nearest')\n",
    "plt.subplot(224)\n",
    "plt.ylabel(\"frequency\")\n",
    "plt.xlabel(\"time\")\n",
    "plt.title(\"Electronic Style Powerspectrum\")\n",
    "plt.imshow(np.log(electro.processed), origin='lower', aspect='auto', interpolation='nearest')\n",
    "plt.savefig('../powerspectra.png')"
   ]
  },
  {
   "cell_type": "code",
   "execution_count": null,
   "metadata": {
    "collapsed": false
   },
   "outputs": [],
   "source": [
    "classic = FluctuationPattern('Beethoven-Piano Sonata-classical.mp3')\n",
    "classic_fp = classic.get_feature_matrix()\n",
    "hiphop = FluctuationPattern('CuzOh-Take You Home-hiphop.mp3')\n",
    "hiphop_fp = hiphop.get_feature_matrix()\n",
    "electro = FluctuationPattern('So Inawaga-Logo Queen-electronic.mp3')\n",
    "electro_fp = electro.get_feature_matrix()\n",
    "metal = FluctuationPattern('clean-inheritance from the classical-metal.mp3')\n",
    "metal_fp = metal.get_feature_matrix()"
   ]
  },
  {
   "cell_type": "code",
   "execution_count": null,
   "metadata": {
    "collapsed": false
   },
   "outputs": [],
   "source": [
    "fig = plt.figure(figsize=(20,10))\n",
    "\n",
    "rh = np.abs(np.sum(metal_fp, axis = 0))\n",
    "plt.subplot(221)\n",
    "ticks_lbl = np.arange(0,600,50)        \n",
    "ticks_loc = (np.arange(float(len(ticks_lbl))))/len(ticks_lbl)*len(rh)\n",
    "plt.xticks(ticks_loc,ticks_lbl)\n",
    "plt.title(\"Metal Style Histogramm\")\n",
    "plt.xlabel(\"bpm\")\n",
    "plt.ylabel(\"rythmic energy\")\n",
    "ax = plt.gca()\n",
    "ax.bar(range(len(rh)),rh)\n",
    "\n",
    "rh = np.abs(np.sum(classic_fp, axis = 0))\n",
    "plt.subplot(222)\n",
    "ticks_lbl = np.arange(0,600,50)        \n",
    "ticks_loc = (np.arange(float(len(ticks_lbl))))/len(ticks_lbl)*len(rh)\n",
    "plt.xticks(ticks_loc,ticks_lbl)\n",
    "plt.title(\"Classical Style Histogramm\")\n",
    "plt.xlabel(\"bpm\")\n",
    "plt.ylabel(\"rythmic energy\")\n",
    "ax = plt.gca()\n",
    "ax.bar(range(len(rh)),rh)\n",
    "\n",
    "rh = np.abs(np.sum(hiphop_fp, axis = 0))\n",
    "plt.subplot(223)\n",
    "ticks_lbl = np.arange(0,600,50)        \n",
    "ticks_loc = (np.arange(float(len(ticks_lbl))))/len(ticks_lbl)*len(rh)\n",
    "plt.xticks(ticks_loc,ticks_lbl)\n",
    "plt.title(\"Hip Hop Style Histogramm\")\n",
    "plt.xlabel(\"bpm\")\n",
    "plt.ylabel(\"rythmic energy\")\n",
    "ax = plt.gca()\n",
    "ax.bar(range(len(rh)),rh)\n",
    "\n",
    "rh = np.abs(np.sum(electro_fp, axis = 0))\n",
    "plt.subplot(224)\n",
    "ticks_lbl = np.arange(0,600,50)        \n",
    "ticks_loc = (np.arange(float(len(ticks_lbl))))/len(ticks_lbl)*len(rh)\n",
    "plt.xticks(ticks_loc,ticks_lbl)\n",
    "plt.title(\"Electro Style Histogramm\")\n",
    "plt.xlabel(\"bpm\")\n",
    "plt.ylabel(\"rythmic energy\")\n",
    "ax = plt.gca()\n",
    "ax.bar(range(len(rh)),rh)\n",
    "\n",
    "plt.savefig('../rhythm_hist.png')"
   ]
  },
  {
   "cell_type": "code",
   "execution_count": null,
   "metadata": {
    "collapsed": false
   },
   "outputs": [],
   "source": [
    "sel = range(12,24)\n",
    "sel = [0,4,8,10] + sel\n",
    "fig = plt.figure(figsize=(15,4))\n",
    "ax = plt.gca()\n",
    "ax.xaxis.set_ticks(AudioAnalytics.bark[sel])\n",
    "ax.xaxis.set_ticklabels(AudioAnalytics.bark[sel]/1000.)\n",
    "plt.grid()\n",
    "plt.xlabel(\"frequency[kHz]\", fontsize=14)\n",
    "plt.ylabel(\"[bark]\",  fontsize=14)\n",
    "plt.plot(AudioAnalytics.bark,range(1,25),'r-')\n",
    "plt.plot(AudioAnalytics.bark,range(1,25),'ko', markersize=3)\n",
    "plt.savefig('../bark.png')"
   ]
  },
  {
   "cell_type": "code",
   "execution_count": null,
   "metadata": {
    "collapsed": false
   },
   "outputs": [],
   "source": [
    "CONST_spread = np.zeros((24,24))\n",
    "for i in range(24):\n",
    "    CONST_spread[i,:] = 10**((15.81+7.5*((i-np.arange(24))+0.474)-17.5*(1+((i-np.arange(24))+0.474)**2)**0.5)/10)\n",
    "plt.figure(figsize=(8,6))\n",
    "CS = plt.imshow(CONST_spread, origin='upper', aspect='equal', interpolation='nearest', cmap=\"gray\", norm = colors.LogNorm(vmin =CONST_spread.min() , vmax = 1.))\n",
    "plt.colorbar(CS)\n",
    "plt.savefig('../masking.png')"
   ]
  },
  {
   "cell_type": "code",
   "execution_count": null,
   "metadata": {
    "collapsed": false
   },
   "outputs": [],
   "source": [
    "example1 = np.zeros((24,100))\n",
    "example1[[0,4,8,12,16,20],:] = 1.\n",
    "example2 = np.zeros((24,100))\n",
    "example2[:,[i*5 for i in range(1,20)]] = 1.\n",
    "plt.figure(figsize=(20,10))\n",
    "plt.subplot(321)\n",
    "plt.title(\"original horizontal matrix\")\n",
    "plt.imshow(example1, origin='lower', aspect='auto', interpolation='nearest', cmap=\"gray\")\n",
    "plt.subplot(323)\n",
    "plt.title(\"masked horizontal matrix\")\n",
    "CS = plt.imshow(np.dot(CONST_spread,example1), origin='lower', aspect='auto', interpolation='nearest', cmap=\"gray\")\n",
    "\n",
    "plt.subplot(322)\n",
    "plt.title(\"original vertical matrix\")\n",
    "plt.imshow(example2, origin='lower', aspect='auto', interpolation='nearest', cmap=\"gray\")\n",
    "plt.subplot(324)\n",
    "plt.title(\"masked vertical matrix\")\n",
    "CS = plt.imshow(np.dot(CONST_spread,example2), origin='lower', aspect='auto', interpolation='nearest', cmap=\"gray\")\n",
    "\n",
    "plt.subplot(325)\n",
    "plt.title(\"original horizontal matrix profile\")\n",
    "plt.plot(example1[:,1])\n",
    "plt.subplot(326)\n",
    "plt.title(\"masked horizontal matrix profile\")\n",
    "plt.plot(np.dot(CONST_spread,example1[:,1]))\n",
    "\n",
    "plt.savefig('../masking_examples.png')\n",
    "\n"
   ]
  },
  {
   "cell_type": "code",
   "execution_count": null,
   "metadata": {
    "collapsed": false
   },
   "outputs": [],
   "source": [
    "np.dot(CONST_spread,example1)[:,1]"
   ]
  },
  {
   "cell_type": "code",
   "execution_count": null,
   "metadata": {
    "collapsed": false
   },
   "outputs": [],
   "source": [
    "plt.figure(figsize=(12,5))\n",
    "plt.xscale('log')\n",
    "plt.grid()\n",
    "plt.ylabel(\"Loudness[dB(SPL)]\", fontsize=14)\n",
    "plt.xlabel(\"frequency [kHz]\", fontsize=14)\n",
    "plt.xticks(AudioAnalytics.loudn_freq/1000.)\n",
    "for i in range(6):\n",
    "    plt.plot(AudioAnalytics.loudn_freq/1000.,AudioAnalytics.eq_loudness[i], label=str(AudioAnalytics.phons[i+1]) + \" phon\")\n",
    "    plt.plot(AudioAnalytics.loudn_freq/1000.,AudioAnalytics.eq_loudness[i], \"ko\", markersize=3)\n",
    "lgd = plt.legend(loc=2, bbox_to_anchor=(1.0,1.02))\n",
    "plt.xlim([10**-1.7,10**1.4])\n",
    "plt.savefig('../phon.png', bbox_extra_artists=(lgd,), bbox_inches='tight')"
   ]
  },
  {
   "cell_type": "code",
   "execution_count": null,
   "metadata": {
    "collapsed": false
   },
   "outputs": [],
   "source": [
    "def sone(x):\n",
    "    if x > 40:\n",
    "        return 2**(0.1*(x-40))\n",
    "    else:\n",
    "        return (x/40.)**2.642\n",
    "y = np.arange(120)\n",
    "x = map(sone,y)\n",
    "plt.figure(figsize=(12,4))\n",
    "plt.grid()\n",
    "plt.plot(x,y)\n",
    "plt.ylabel(\"Loudness level[phon]\", fontsize=14)\n",
    "plt.xlabel(\"Loudness sensation[sone]\", fontsize=14)\n",
    "plt.xlim([-1,65])\n",
    "plt.ylim([0,100])\n",
    "plt.savefig(\"../sone.png\")"
   ]
  },
  {
   "cell_type": "code",
   "execution_count": null,
   "metadata": {
    "collapsed": false
   },
   "outputs": [],
   "source": [
    "electro = AudioAnalytics('So Inawaga-Logo Queen-electronic.mp3')\n",
    "electro.compute_sone(plot=False)"
   ]
  },
  {
   "cell_type": "code",
   "execution_count": null,
   "metadata": {
    "collapsed": false
   },
   "outputs": [],
   "source": []
  },
  {
   "cell_type": "code",
   "execution_count": null,
   "metadata": {
    "collapsed": false
   },
   "outputs": [],
   "source": []
  },
  {
   "cell_type": "code",
   "execution_count": null,
   "metadata": {
    "collapsed": false
   },
   "outputs": [],
   "source": [
    "plt.figure(figsize=(20,5))\n",
    "plt.imshow(electro.processed, origin='lower', aspect='auto', interpolation='nearest')"
   ]
  },
  {
   "cell_type": "code",
   "execution_count": null,
   "metadata": {
    "collapsed": false
   },
   "outputs": [],
   "source": [
    "plt.figure(figsize=(12,12))\n",
    "plt.subplot(511)\n",
    "plt.title(\"critical band 0\")\n",
    "plt.plot(electro.processed[0,500:1300], 'b-')\n",
    "plt.grid()\n",
    "plt.subplot(512)\n",
    "plt.title(\"critical band 3\")\n",
    "plt.plot(electro.processed[3,500:1300], 'r-')\n",
    "plt.grid()\n",
    "plt.subplot(513)\n",
    "plt.title(\"critical band 10\")\n",
    "plt.plot(electro.processed[10,500:1300], 'y-')\n",
    "plt.grid()\n",
    "plt.subplot(514)\n",
    "plt.title(\"critical band 17\")\n",
    "plt.plot(electro.processed[17,500:1300], 'g-')\n",
    "plt.grid()\n",
    "plt.subplot(515)\n",
    "plt.title(\"all previous curve overlayed\")\n",
    "plt.plot(electro.processed[0,500:1300],'b-')\n",
    "plt.plot(electro.processed[3,500:1300],'r-')\n",
    "plt.plot(electro.processed[10,500:1300],'y-')\n",
    "plt.plot(electro.processed[17,500:1300],'g-')\n",
    "plt.grid()\n",
    "plt.tight_layout()\n",
    "plt.savefig(\"../periodicity.png\")"
   ]
  },
  {
   "cell_type": "code",
   "execution_count": null,
   "metadata": {
    "collapsed": false
   },
   "outputs": [],
   "source": [
    "plt.figure(figsize=(15,4))\n",
    "plt.grid()\n",
    "plt.plot(electro.processed[0,500:1300])\n",
    "plt.plot(electro.processed[3,500:1300])\n",
    "plt.plot(electro.processed[10,500:1300])\n",
    "plt.plot(electro.processed[17,500:1300])\n",
    "plt.plot(electro.processed[22,500:1300])"
   ]
  },
  {
   "cell_type": "code",
   "execution_count": null,
   "metadata": {
    "collapsed": false
   },
   "outputs": [],
   "source": [
    "256/11025."
   ]
  },
  {
   "cell_type": "code",
   "execution_count": null,
   "metadata": {
    "collapsed": false
   },
   "outputs": [],
   "source": [
    "fp = FluctuationPattern('So Inawaga-Logo Queen-electronic.mp3')"
   ]
  },
  {
   "cell_type": "code",
   "execution_count": null,
   "metadata": {
    "collapsed": false
   },
   "outputs": [],
   "source": [
    "fs_model = fp.fs_model_curve(11025./2**16 * np.arange(61))"
   ]
  },
  {
   "cell_type": "code",
   "execution_count": null,
   "metadata": {
    "collapsed": false
   },
   "outputs": [],
   "source": [
    "plt.figure(figsize=(10,5))\n",
    "plt.xlabel(\"Modulation Frequency[Hz]\", fontsize=14)\n",
    "plt.ylabel(\"Weighting factor\", fontsize=14)\n",
    "plt.plot(np.arange(11),FluctuationPattern.fs_model[:11], \"ko\", markersize=3)\n",
    "plt.plot(11025./2**16 * np.arange(61)[1:],fs_model[1:])\n",
    "plt.grid()\n",
    "plt.ylim([0,1.2])\n",
    "plt.savefig(\"../fs_model.png\")"
   ]
  },
  {
   "cell_type": "code",
   "execution_count": null,
   "metadata": {
    "collapsed": true
   },
   "outputs": [],
   "source": [
    "def fs_mod(x):\n",
    "    return (x/4)+(4/x)"
   ]
  },
  {
   "cell_type": "code",
   "execution_count": null,
   "metadata": {
    "collapsed": false
   },
   "outputs": [],
   "source": [
    "x = (11025./2**16 * np.arange(61))[1:]\n",
    "print x\n",
    "y = map(fs_mod,x)"
   ]
  },
  {
   "cell_type": "code",
   "execution_count": null,
   "metadata": {
    "collapsed": false
   },
   "outputs": [],
   "source": [
    "plt.figure()\n",
    "plt.plot(x,y)"
   ]
  },
  {
   "cell_type": "code",
   "execution_count": 3,
   "metadata": {
    "collapsed": false
   },
   "outputs": [
    {
     "name": "stderr",
     "output_type": "stream",
     "text": [
      "audioanalytics.py:298: RuntimeWarning: invalid value encountered in divide\n"
     ]
    }
   ],
   "source": [
    "classic = FluctuationPattern('Beethoven-Piano Sonata-classical.mp3')\n",
    "classic_fp = classic.get_feature_matrix()\n",
    "hiphop = FluctuationPattern('CuzOh-Take You Home-hiphop.mp3')\n",
    "hiphop_fp = hiphop.get_feature_matrix()\n",
    "electro = FluctuationPattern('So Inawaga-Logo Queen-electronic.mp3')\n",
    "electro_fp = electro.get_feature_matrix()\n",
    "metal = FluctuationPattern('clean-inheritance from the classical-metal.mp3')\n",
    "metal_fp = metal.get_feature_matrix()"
   ]
  },
  {
   "cell_type": "code",
   "execution_count": 8,
   "metadata": {
    "collapsed": false
   },
   "outputs": [
    {
     "data": {
      "image/png": "[encoded data removed]",
      "text/plain": [
       "<matplotlib.figure.Figure at 0x7ff322da67d0>"
      ]
     },
     "metadata": {},
     "output_type": "display_data"
    }
   ],
   "source": [
    "plt.figure(figsize=(15,10))\n",
    "plt.subplot(221)\n",
    "FluctuationPattern.plot_frame(classic_fp,\"Beethoven - Piano Sonata [Classic]\")\n",
    "plt.subplot(222)\n",
    "FluctuationPattern.plot_frame(hiphop_fp,\"CuzOh - Take You Home [HipHop]\")\n",
    "plt.subplot(223)\n",
    "FluctuationPattern.plot_frame(electro_fp,\"So Inawaga - Logo Queen [Electronic]\")\n",
    "plt.subplot(224)\n",
    "FluctuationPattern.plot_frame(metal_fp,\"Clean - Inheritance From The Classical [Metal]\")"
   ]
  },
  {
   "cell_type": "code",
   "execution_count": null,
   "metadata": {
    "collapsed": true
   },
   "outputs": [],
   "source": []
  },
  {
   "cell_type": "code",
   "execution_count": 105,
   "metadata": {
    "collapsed": false
   },
   "outputs": [],
   "source": [
    "#load feature vectos\n",
    "f = tables.open_file(\"/home/kayibal/sc-recom/code/msd_data/analysis_data/analysis2.h5\", mode=\"r\")\n",
    "\n",
    "minmax = MinMaxScaler()\n",
    "pca = PCA(n_components=60)\n",
    "flucs_full = minmax.fit_transform(f.root.analysis.flucs[:])\n",
    "flucs_comp = pca.fit_transform(np.asarray(flucs_full).transpose()).transpose()\n",
    "f.close()"
   ]
  },
  {
   "cell_type": "code",
   "execution_count": 106,
   "metadata": {
    "collapsed": false
   },
   "outputs": [],
   "source": [
    "classic_comp = pca.transform(classic_fp.reshape(1,-1))\n",
    "electro_comp = pca.transform(electro_fp.reshape(1,-1))\n",
    "metal_comp = pca.transform(metal_fp.reshape(1,-1))\n",
    "hiphop_comp = pca.transform(hiphop_fp.reshape(1,-1))"
   ]
  },
  {
   "cell_type": "code",
   "execution_count": 30,
   "metadata": {
    "collapsed": true
   },
   "outputs": [],
   "source": [
    "data = np.vstack((classic_comp, electro_comp, metal_comp, hiphop_comp))"
   ]
  },
  {
   "cell_type": "code",
   "execution_count": 38,
   "metadata": {
    "collapsed": false
   },
   "outputs": [],
   "source": [
    "dist = cdist(data,data)"
   ]
  },
  {
   "cell_type": "code",
   "execution_count": 42,
   "metadata": {
    "collapsed": false
   },
   "outputs": [
    {
     "name": "stdout",
     "output_type": "stream",
     "text": [
      "0.000 & 5.824 & 1.694 & 4.584 \\\\ \\hline\n",
      "5.824 & 0.000 & 5.782 & 6.215 \\\\ \\hline\n",
      "1.694 & 5.782 & 0.000 & 4.608 \\\\ \\hline\n",
      "4.584 & 6.215 & 4.608 & 0.000 \\\\ \\hline\n"
     ]
    }
   ],
   "source": [
    "for row in dist:\n",
    "    print \"%.3f & %.3f & %.3f & %.3f \\\\\\\\ \\\\hline\" % (row[0], row[1], row[2], row[3])"
   ]
  },
  {
   "cell_type": "code",
   "execution_count": 126,
   "metadata": {
    "collapsed": false
   },
   "outputs": [],
   "source": [
    "classic_rec = pca.inverse_transform(flucs_comp[:,100]).reshape(24,-1)"
   ]
  },
  {
   "cell_type": "code",
   "execution_count": 100,
   "metadata": {
    "collapsed": false
   },
   "outputs": [
    {
     "data": {
      "text/plain": [
       "1.0090924220095456"
      ]
     },
     "execution_count": 100,
     "metadata": {},
     "output_type": "execute_result"
    }
   ],
   "source": [
    "flucs"
   ]
  },
  {
   "cell_type": "code",
   "execution_count": 127,
   "metadata": {
    "collapsed": false
   },
   "outputs": [
    {
     "data": {
      "image/png": "[encoded data removed]",
      "text/plain": [
       "<matplotlib.figure.Figure at 0x7ff3094a01d0>"
      ]
     },
     "metadata": {},
     "output_type": "display_data"
    }
   ],
   "source": [
    "plt.figure(figsize=(15,5))\n",
    "plt.subplot(121)\n",
    "FluctuationPattern.plot_frame(flucs_full[:,100].reshape(24,-1), \"original\")\n",
    "plt.subplot(122)\n",
    "FluctuationPattern.plot_frame(classic_rec, \"reconstructed\")"
   ]
  },
  {
   "cell_type": "code",
   "execution_count": 120,
   "metadata": {
    "collapsed": false
   },
   "outputs": [],
   "source": [
    "f = tables.open_file(\"/home/kayibal/sc-recom/code/msd_data/analysis_data/analysis2.h5\", mode=\"r\")\n",
    "flucs = np.array(f.root.analysis.flucs[:])\n",
    "f.close()"
   ]
  },
  {
   "cell_type": "code",
   "execution_count": 123,
   "metadata": {
    "collapsed": false
   },
   "outputs": [],
   "source": [
    "average_fp = np.mean(flucs, axis= 1)"
   ]
  },
  {
   "cell_type": "code",
   "execution_count": 125,
   "metadata": {
    "collapsed": false
   },
   "outputs": [
    {
     "data": {
      "image/png": "[encoded data removed]",
      "text/plain": [
       "<matplotlib.figure.Figure at 0x7ff320626f50>"
      ]
     },
     "metadata": {},
     "output_type": "display_data"
    }
   ],
   "source": []
  },
  {
   "cell_type": "code",
   "execution_count": 130,
   "metadata": {
    "collapsed": false
   },
   "outputs": [],
   "source": [
    "w = np.matrix(np.arange(100).reshape((10,10)))"
   ]
  },
  {
   "cell_type": "code",
   "execution_count": 131,
   "metadata": {
    "collapsed": true
   },
   "outputs": [],
   "source": [
    "x = np.matrix(np.ones(10))"
   ]
  },
  {
   "cell_type": "code",
   "execution_count": 132,
   "metadata": {
    "collapsed": false
   },
   "outputs": [
    {
     "data": {
      "text/plain": [
       "matrix([[ 1.,  1.,  1.,  1.,  1.,  1.,  1.,  1.,  1.,  1.]])"
      ]
     },
     "execution_count": 132,
     "metadata": {},
     "output_type": "execute_result"
    }
   ],
   "source": [
    "x"
   ]
  },
  {
   "cell_type": "code",
   "execution_count": 134,
   "metadata": {
    "collapsed": false
   },
   "outputs": [],
   "source": [
    "x = x.T"
   ]
  },
  {
   "cell_type": "code",
   "execution_count": 137,
   "metadata": {
    "collapsed": false
   },
   "outputs": [
    {
     "data": {
      "text/plain": [
       "matrix([[ 450.],\n",
       "        [ 460.]])"
      ]
     },
     "execution_count": 137,
     "metadata": {},
     "output_type": "execute_result"
    }
   ],
   "source": [
    "w[:,:2].T*x"
   ]
  },
  {
   "cell_type": "code",
   "execution_count": null,
   "metadata": {
    "collapsed": true
   },
   "outputs": [],
   "source": []
  }
 ],
 "metadata": {
  "kernelspec": {
   "display_name": "Python 2",
   "language": "python",
   "name": "python2"
  },
  "language_info": {
   "codemirror_mode": {
    "name": "ipython",
    "version": 2
   },
   "file_extension": ".py",
   "mimetype": "text/x-python",
   "name": "python",
   "nbconvert_exporter": "python",
   "pygments_lexer": "ipython2",
   "version": "2.7.9"
  }
 },
 "nbformat": 4,
 "nbformat_minor": 0
}
